{
 "cells": [
  {
   "cell_type": "code",
   "execution_count": 2,
   "metadata": {},
   "outputs": [
    {
     "name": "stdout",
     "output_type": "stream",
     "text": [
      "SI HAY DIFERENCIA\n",
      "                  sum_sq    df           F        PR(>F)\n",
      "title_year  6.787865e+20   1.0  155.991838  2.831235e-21\n",
      "Residual    3.872767e+20  89.0         NaN           NaN\n"
     ]
    }
   ],
   "source": [
    "import pandas as pd\n",
    "import matplotlib.pyplot as plt\n",
    "import statsmodels.api as sm\n",
    "from statsmodels.formula.api import ols\n",
    "\n",
    "# Importación del Dataset\n",
    "data = pd.read_csv('dataSet\\MoviesDataSet.csv')\n",
    "\n",
    "# Agrupación de las ganancias por año\n",
    "df_ganancias_anio = data.groupby(['title_year'])['gross'].sum().reset_index()\n",
    "df_ganancias_anio.reset_index(inplace=True)\n",
    "\n",
    "# Ajuste de un modelo de análisis de varianza (ANOVA)\n",
    "modl = ols(\"gross ~ title_year\", data=df_ganancias_anio).fit()\n",
    "\n",
    "# Realizar el análisis de varianza (ANOVA)\n",
    "anova_df = sm.stats.anova_lm(modl, typ=2)\n",
    "\n",
    "# Comprobar si hay diferencias significativas\n",
    "if anova_df[\"PR(>F)\"][0] < 0.005:\n",
    "    print(\"SI HAY DIFERENCIA\")\n",
    "    print(anova_df)\n",
    "else:\n",
    "    print(\"NO HAY DIFERENCIA\")\n"
   ]
  },
  {
   "cell_type": "code",
   "execution_count": null,
   "metadata": {},
   "outputs": [],
   "source": []
  },
  {
   "cell_type": "markdown",
   "metadata": {},
   "source": []
  }
 ],
 "metadata": {
  "kernelspec": {
   "display_name": "Python 3",
   "language": "python",
   "name": "python3"
  },
  "language_info": {
   "codemirror_mode": {
    "name": "ipython",
    "version": 3
   },
   "file_extension": ".py",
   "mimetype": "text/x-python",
   "name": "python",
   "nbconvert_exporter": "python",
   "pygments_lexer": "ipython3",
   "version": "3.11.4"
  }
 },
 "nbformat": 4,
 "nbformat_minor": 2
}
